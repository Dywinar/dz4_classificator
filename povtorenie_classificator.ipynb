{
  "nbformat": 4,
  "nbformat_minor": 0,
  "metadata": {
    "colab": {
      "provenance": [],
      "authorship_tag": "ABX9TyNULbghUJAD/10TzaRXp/Vg",
      "include_colab_link": true
    },
    "kernelspec": {
      "name": "python3",
      "display_name": "Python 3"
    },
    "language_info": {
      "name": "python"
    }
  },
  "cells": [
    {
      "cell_type": "markdown",
      "metadata": {
        "id": "view-in-github",
        "colab_type": "text"
      },
      "source": [
        "<a href=\"https://colab.research.google.com/github/Dywinar/dz4_classificator/blob/main/povtorenie_classificator.ipynb\" target=\"_parent\"><img src=\"https://colab.research.google.com/assets/colab-badge.svg\" alt=\"Open In Colab\"/></a>"
      ]
    },
    {
      "cell_type": "code",
      "execution_count": 285,
      "metadata": {
        "id": "-fgH5omdFzrU"
      },
      "outputs": [],
      "source": [
        "import pandas as pd\n",
        "import numpy as np\n",
        "from sklearn.linear_model import LogisticRegression\n",
        "from sklearn.preprocessing import StandardScaler\n",
        "from sklearn.neighbors import KNeighborsClassifier\n",
        "from sklearn.metrics import accuracy_score, f1_score, precision_score, recall_score\n",
        "from sklearn.model_selection import train_test_split\n",
        "import matplotlib.pyplot as plt\n",
        "import random"
      ]
    },
    {
      "cell_type": "code",
      "source": [
        "df = pd.read_csv('/content/titanic.csv')"
      ],
      "metadata": {
        "id": "VJjlTmFeY4ho"
      },
      "execution_count": 286,
      "outputs": []
    },
    {
      "cell_type": "code",
      "source": [
        "print(df.isnull().sum())\n",
        "# Довольно много пропусков"
      ],
      "metadata": {
        "colab": {
          "base_uri": "https://localhost:8080/"
        },
        "id": "CkhAWwwvZRTz",
        "outputId": "e947a1bb-c8fa-4af3-e526-ab01a78f4e6e"
      },
      "execution_count": 287,
      "outputs": [
        {
          "output_type": "stream",
          "name": "stdout",
          "text": [
            "PassengerId      0\n",
            "Survived         0\n",
            "Pclass           0\n",
            "Name             0\n",
            "Gender           0\n",
            "Age            177\n",
            "SibSp            0\n",
            "Parch            0\n",
            "Ticket           0\n",
            "Fare             0\n",
            "Cabin          687\n",
            "Embarked         2\n",
            "dtype: int64\n"
          ]
        }
      ]
    },
    {
      "cell_type": "code",
      "source": [
        "df.groupby('Cabin')['Cabin'].count().sum() / len(df.groupby('Cabin')['Cabin'].count())"
      ],
      "metadata": {
        "colab": {
          "base_uri": "https://localhost:8080/"
        },
        "id": "VWu-TzAkaZRy",
        "outputId": "4f2f9888-43bb-4d9b-de18-200ca3db385d"
      },
      "execution_count": 288,
      "outputs": [
        {
          "output_type": "execute_result",
          "data": {
            "text/plain": [
              "1.3877551020408163"
            ]
          },
          "metadata": {},
          "execution_count": 288
        }
      ]
    },
    {
      "cell_type": "markdown",
      "source": [
        "Получается среднее встречается 1-2 раз каждая группа"
      ],
      "metadata": {
        "id": "2FCREorkcxyN"
      }
    },
    {
      "cell_type": "code",
      "source": [
        "v = dict(df.groupby('Cabin')['Cabin'].count())\n",
        "d = set()\n",
        "for q,i in v.items():\n",
        "  if (i == 1) or (i == 2):\n",
        "    d.add(q)\n",
        "d = list(d)"
      ],
      "metadata": {
        "id": "oj9hL0QUauch"
      },
      "execution_count": 289,
      "outputs": []
    },
    {
      "cell_type": "markdown",
      "source": [
        "Предположим, что люди с nan находяться в наименее встречающихся кабинах, тогда:"
      ],
      "metadata": {
        "id": "yGQyRCc-dVDm"
      }
    },
    {
      "cell_type": "code",
      "source": [
        "df['Cabin'] = df['Cabin'].apply(lambda x: random.choice(d) if pd.isna(x) else x)"
      ],
      "metadata": {
        "id": "j7TlbsjMdfwh"
      },
      "execution_count": 290,
      "outputs": []
    },
    {
      "cell_type": "markdown",
      "source": [
        "Смотрим пропуски:"
      ],
      "metadata": {
        "id": "rgtdekUblqlg"
      }
    },
    {
      "cell_type": "code",
      "source": [
        "df.isnull().sum()"
      ],
      "metadata": {
        "colab": {
          "base_uri": "https://localhost:8080/"
        },
        "id": "tMqfMYp6eBXM",
        "outputId": "e79949ba-f8cb-4bbc-9a5b-bcb8cb343900"
      },
      "execution_count": 291,
      "outputs": [
        {
          "output_type": "execute_result",
          "data": {
            "text/plain": [
              "PassengerId      0\n",
              "Survived         0\n",
              "Pclass           0\n",
              "Name             0\n",
              "Gender           0\n",
              "Age            177\n",
              "SibSp            0\n",
              "Parch            0\n",
              "Ticket           0\n",
              "Fare             0\n",
              "Cabin            0\n",
              "Embarked         2\n",
              "dtype: int64"
            ]
          },
          "metadata": {},
          "execution_count": 291
        }
      ]
    },
    {
      "cell_type": "markdown",
      "source": [
        "Перейдем к столбцу age"
      ],
      "metadata": {
        "id": "FDTCGvtXl0QE"
      }
    },
    {
      "cell_type": "code",
      "source": [
        "df['Age'] = df['Age'].fillna(round(df['Age'].mean()))\n",
        "df.isnull().sum()"
      ],
      "metadata": {
        "colab": {
          "base_uri": "https://localhost:8080/"
        },
        "id": "k7lJ7R5_lkfp",
        "outputId": "3cadfc77-6062-438d-dc00-23eec5d52805"
      },
      "execution_count": 292,
      "outputs": [
        {
          "output_type": "execute_result",
          "data": {
            "text/plain": [
              "PassengerId    0\n",
              "Survived       0\n",
              "Pclass         0\n",
              "Name           0\n",
              "Gender         0\n",
              "Age            0\n",
              "SibSp          0\n",
              "Parch          0\n",
              "Ticket         0\n",
              "Fare           0\n",
              "Cabin          0\n",
              "Embarked       2\n",
              "dtype: int64"
            ]
          },
          "metadata": {},
          "execution_count": 292
        }
      ]
    },
    {
      "cell_type": "markdown",
      "source": [
        "Удаляем отсавшиеся пропуски"
      ],
      "metadata": {
        "id": "d6dypp4dmqhJ"
      }
    },
    {
      "cell_type": "code",
      "source": [
        "df = df.dropna()"
      ],
      "metadata": {
        "id": "yNWG1CXSl6zB"
      },
      "execution_count": 293,
      "outputs": []
    },
    {
      "cell_type": "markdown",
      "source": [
        "Как видим пропусков нет, можно более лучше поработать с пропусками, но я решил так."
      ],
      "metadata": {
        "id": "EtbYoiNynJlt"
      }
    },
    {
      "cell_type": "code",
      "source": [
        "df.isnull().sum()"
      ],
      "metadata": {
        "colab": {
          "base_uri": "https://localhost:8080/"
        },
        "id": "7Xkw69wEmuUn",
        "outputId": "b00fa70b-8db4-4e06-dd0e-062246fc21ea"
      },
      "execution_count": 295,
      "outputs": [
        {
          "output_type": "execute_result",
          "data": {
            "text/plain": [
              "PassengerId    0\n",
              "Survived       0\n",
              "Pclass         0\n",
              "Name           0\n",
              "Gender         0\n",
              "Age            0\n",
              "SibSp          0\n",
              "Parch          0\n",
              "Ticket         0\n",
              "Fare           0\n",
              "Cabin          0\n",
              "Embarked       0\n",
              "dtype: int64"
            ]
          },
          "metadata": {},
          "execution_count": 295
        }
      ]
    },
    {
      "cell_type": "markdown",
      "source": [
        "Работаем с дубликатами"
      ],
      "metadata": {
        "id": "FyUIf67GnVhn"
      }
    },
    {
      "cell_type": "code",
      "source": [
        "df.duplicated() # их нет"
      ],
      "metadata": {
        "colab": {
          "base_uri": "https://localhost:8080/"
        },
        "id": "YJBzA8L9nTX2",
        "outputId": "91292195-eeea-4e38-e0d1-320e93867690"
      },
      "execution_count": 296,
      "outputs": [
        {
          "output_type": "execute_result",
          "data": {
            "text/plain": [
              "0      False\n",
              "1      False\n",
              "2      False\n",
              "3      False\n",
              "4      False\n",
              "       ...  \n",
              "886    False\n",
              "887    False\n",
              "888    False\n",
              "889    False\n",
              "890    False\n",
              "Length: 889, dtype: bool"
            ]
          },
          "metadata": {},
          "execution_count": 296
        }
      ]
    },
    {
      "cell_type": "markdown",
      "source": [
        "Нормализуем данные/ предобработка"
      ],
      "metadata": {
        "id": "A8rhBLIEns-K"
      }
    },
    {
      "cell_type": "code",
      "source": [
        "# По-скольку не думаю, что из-за имени можно считать, умер человек или нет. Так что я не буду использовать в X, столбец  name. Также и билет. Также убираем категореальные признаки."
      ],
      "metadata": {
        "id": "r3A-1TH9ndJV"
      },
      "execution_count": 176,
      "outputs": []
    },
    {
      "cell_type": "markdown",
      "source": [
        "Да. Да, понял потом что не умеем работать с категориальными признакми, но предобработку я оставлю."
      ],
      "metadata": {
        "id": "rpGN9P0gqCYr"
      }
    },
    {
      "cell_type": "code",
      "source": [
        "X = np.array(df[['Age', 'SibSp', 'Parch', 'Fare', 'Pclass']])\n",
        "Y = df['Survived']\n",
        "X = StandardScaler().fit_transform(X)\n",
        "X_train, X_test, Y_train,  Y_test = train_test_split(X,Y,test_size=0.38)\n",
        "X_train"
      ],
      "metadata": {
        "colab": {
          "base_uri": "https://localhost:8080/"
        },
        "id": "jNFGMeqooSiU",
        "outputId": "5baa7462-a7fe-4ecd-df1a-9a75799c6e02"
      },
      "execution_count": 371,
      "outputs": [
        {
          "output_type": "execute_result",
          "data": {
            "text/plain": [
              "array([[ 2.33660125, -0.47519908, -0.47432585, -0.11167167, -1.57221121],\n",
              "       [ 0.02211476, -0.47519908, -0.47432585, -0.48941823,  0.82520863],\n",
              "       [-0.05503479, -0.47519908, -0.47432585, -0.49017322,  0.82520863],\n",
              "       ...,\n",
              "       [-0.13218434,  1.33789956, -0.47432585, -0.48664993,  0.82520863],\n",
              "       [ 0.17641386,  0.43135024, -0.47432585, -0.12274485, -0.37350129],\n",
              "       [ 0.56216161,  0.43135024,  0.76589674,  0.41187249, -1.57221121]])"
            ]
          },
          "metadata": {},
          "execution_count": 371
        }
      ]
    },
    {
      "cell_type": "markdown",
      "source": [
        "Обучаем модель 1/LogisticRegression, находим подходящее кол-во эпох"
      ],
      "metadata": {
        "id": "oZbR1uAZriBu"
      }
    },
    {
      "cell_type": "code",
      "source": [
        "ml_list = []\n",
        "for i in range(1000, 20_000, 20):\n",
        "  model_log = LogisticRegression(multi_class = 'ovr', max_iter =i, penalty='l2', solver='saga')\n",
        "  model_log.fit(X_train, Y_train)\n",
        "  ml_list.append(model_log)"
      ],
      "metadata": {
        "id": "6hTSzewkpaBb"
      },
      "execution_count": 372,
      "outputs": []
    },
    {
      "cell_type": "markdown",
      "source": [
        "Считаем метрики, и находим самый больший F1"
      ],
      "metadata": {
        "id": "xEGNK8s7s3JT"
      }
    },
    {
      "cell_type": "code",
      "source": [
        "max_f1 = []\n",
        "for i in range(len(ml_list)):\n",
        "  y_pred_test = ml_list[i].predict(X_test)\n",
        "  max_f1.append([ml_list[i], f1_score(y_pred_test, Y_test)])\n",
        "\n",
        "model, f1 = max(max_f1, key=lambda x: x[1])\n",
        "y_pred_test = model.predict(X_test)\n",
        "\n",
        "\n",
        "print(accuracy_score(Y_test, y_pred_test), ' Accuracy')\n",
        "print(precision_score(Y_test, y_pred_test), ' Prescision score')\n",
        "print(recall_score(Y_test, y_pred_test), ' Recall')\n",
        "print(f1, ' F1')"
      ],
      "metadata": {
        "colab": {
          "base_uri": "https://localhost:8080/"
        },
        "id": "gQHHzNxIrFHg",
        "outputId": "e81a2d73-e14c-43c5-d18b-7e0c90d7d46b"
      },
      "execution_count": 363,
      "outputs": [
        {
          "output_type": "stream",
          "name": "stdout",
          "text": [
            "0.7100591715976331  Accuracy\n",
            "0.7051282051282052  Prescision score\n",
            "0.4230769230769231  Recall\n",
            "0.5288461538461539  F1\n"
          ]
        }
      ]
    },
    {
      "cell_type": "markdown",
      "source": [
        "Переходим к моделе 2/KNeighborsClassifier"
      ],
      "metadata": {
        "id": "L91f4ynYt-Q1"
      }
    },
    {
      "cell_type": "code",
      "source": [
        "ac = []\n",
        "for k in range(1,70):\n",
        "  clf = KNeighborsClassifier(n_neighbors=k)\n",
        "  clf.fit(X_train, Y_train)\n",
        "  ac.append([k,accuracy_score(Y_test, clf.predict(X_test))])\n",
        "plt.figure(figsize=(6,6))\n",
        "plt.plot(range(1,70), [i[1] for i in ac])\n",
        "plt.xlabel('Кол-во соседей')\n",
        "plt.ylabel('Accuracy')\n",
        "plt.show()\n",
        "k = max(ac, key=lambda x: x[1])[0]"
      ],
      "metadata": {
        "colab": {
          "base_uri": "https://localhost:8080/",
          "height": 542
        },
        "id": "gYB4NeYJrJwI",
        "outputId": "3b8d46b4-3cf0-4679-ee77-522dcb47a9c8"
      },
      "execution_count": 364,
      "outputs": [
        {
          "output_type": "display_data",
          "data": {
            "text/plain": [
              "<Figure size 600x600 with 1 Axes>"
            ],
            "image/png": "[encoded data removed]"
          },
          "metadata": {}
        }
      ]
    },
    {
      "cell_type": "markdown",
      "source": [
        "Оптимальное кол-во соседей k поэтому:"
      ],
      "metadata": {
        "id": "evyeBstFuqGt"
      }
    },
    {
      "cell_type": "code",
      "source": [
        "clf = KNeighborsClassifier(n_neighbors=k)\n",
        "clf.fit(X_train, Y_train)"
      ],
      "metadata": {
        "colab": {
          "base_uri": "https://localhost:8080/",
          "height": 74
        },
        "id": "TI_prAfjukdU",
        "outputId": "59e48795-71a5-4560-a999-058a4dcae175"
      },
      "execution_count": 365,
      "outputs": [
        {
          "output_type": "execute_result",
          "data": {
            "text/plain": [
              "KNeighborsClassifier(n_neighbors=15)"
            ],
            "text/html": [
              "<style>#sk-container-id-22 {color: black;background-color: white;}#sk-container-id-22 pre{padding: 0;}#sk-container-id-22 div.sk-toggleable {background-color: white;}#sk-container-id-22 label.sk-toggleable__label {cursor: pointer;display: block;width: 100%;margin-bottom: 0;padding: 0.3em;box-sizing: border-box;text-align: center;}#sk-container-id-22 label.sk-toggleable__label-arrow:before {content: \"▸\";float: left;margin-right: 0.25em;color: #696969;}#sk-container-id-22 label.sk-toggleable__label-arrow:hover:before {color: black;}#sk-container-id-22 div.sk-estimator:hover label.sk-toggleable__label-arrow:before {color: black;}#sk-container-id-22 div.sk-toggleable__content {max-height: 0;max-width: 0;overflow: hidden;text-align: left;background-color: #f0f8ff;}#sk-container-id-22 div.sk-toggleable__content pre {margin: 0.2em;color: black;border-radius: 0.25em;background-color: #f0f8ff;}#sk-container-id-22 input.sk-toggleable__control:checked~div.sk-toggleable__content {max-height: 200px;max-width: 100%;overflow: auto;}#sk-container-id-22 input.sk-toggleable__control:checked~label.sk-toggleable__label-arrow:before {content: \"▾\";}#sk-container-id-22 div.sk-estimator input.sk-toggleable__control:checked~label.sk-toggleable__label {background-color: #d4ebff;}#sk-container-id-22 div.sk-label input.sk-toggleable__control:checked~label.sk-toggleable__label {background-color: #d4ebff;}#sk-container-id-22 input.sk-hidden--visually {border: 0;clip: rect(1px 1px 1px 1px);clip: rect(1px, 1px, 1px, 1px);height: 1px;margin: -1px;overflow: hidden;padding: 0;position: absolute;width: 1px;}#sk-container-id-22 div.sk-estimator {font-family: monospace;background-color: #f0f8ff;border: 1px dotted black;border-radius: 0.25em;box-sizing: border-box;margin-bottom: 0.5em;}#sk-container-id-22 div.sk-estimator:hover {background-color: #d4ebff;}#sk-container-id-22 div.sk-parallel-item::after {content: \"\";width: 100%;border-bottom: 1px solid gray;flex-grow: 1;}#sk-container-id-22 div.sk-label:hover label.sk-toggleable__label {background-color: #d4ebff;}#sk-container-id-22 div.sk-serial::before {content: \"\";position: absolute;border-left: 1px solid gray;box-sizing: border-box;top: 0;bottom: 0;left: 50%;z-index: 0;}#sk-container-id-22 div.sk-serial {display: flex;flex-direction: column;align-items: center;background-color: white;padding-right: 0.2em;padding-left: 0.2em;position: relative;}#sk-container-id-22 div.sk-item {position: relative;z-index: 1;}#sk-container-id-22 div.sk-parallel {display: flex;align-items: stretch;justify-content: center;background-color: white;position: relative;}#sk-container-id-22 div.sk-item::before, #sk-container-id-22 div.sk-parallel-item::before {content: \"\";position: absolute;border-left: 1px solid gray;box-sizing: border-box;top: 0;bottom: 0;left: 50%;z-index: -1;}#sk-container-id-22 div.sk-parallel-item {display: flex;flex-direction: column;z-index: 1;position: relative;background-color: white;}#sk-container-id-22 div.sk-parallel-item:first-child::after {align-self: flex-end;width: 50%;}#sk-container-id-22 div.sk-parallel-item:last-child::after {align-self: flex-start;width: 50%;}#sk-container-id-22 div.sk-parallel-item:only-child::after {width: 0;}#sk-container-id-22 div.sk-dashed-wrapped {border: 1px dashed gray;margin: 0 0.4em 0.5em 0.4em;box-sizing: border-box;padding-bottom: 0.4em;background-color: white;}#sk-container-id-22 div.sk-label label {font-family: monospace;font-weight: bold;display: inline-block;line-height: 1.2em;}#sk-container-id-22 div.sk-label-container {text-align: center;}#sk-container-id-22 div.sk-container {/* jupyter's `normalize.less` sets `[hidden] { display: none; }` but bootstrap.min.css set `[hidden] { display: none !important; }` so we also need the `!important` here to be able to override the default hidden behavior on the sphinx rendered scikit-learn.org. See: https://github.com/scikit-learn/scikit-learn/issues/21755 */display: inline-block !important;position: relative;}#sk-container-id-22 div.sk-text-repr-fallback {display: none;}</style><div id=\"sk-container-id-22\" class=\"sk-top-container\"><div class=\"sk-text-repr-fallback\"><pre>KNeighborsClassifier(n_neighbors=15)</pre><b>In a Jupyter environment, please rerun this cell to show the HTML representation or trust the notebook. <br />On GitHub, the HTML representation is unable to render, please try loading this page with nbviewer.org.</b></div><div class=\"sk-container\" hidden><div class=\"sk-item\"><div class=\"sk-estimator sk-toggleable\"><input class=\"sk-toggleable__control sk-hidden--visually\" id=\"sk-estimator-id-22\" type=\"checkbox\" checked><label for=\"sk-estimator-id-22\" class=\"sk-toggleable__label sk-toggleable__label-arrow\">KNeighborsClassifier</label><div class=\"sk-toggleable__content\"><pre>KNeighborsClassifier(n_neighbors=15)</pre></div></div></div></div></div>"
            ]
          },
          "metadata": {},
          "execution_count": 365
        }
      ]
    },
    {
      "cell_type": "markdown",
      "source": [
        "Считаем метрики, и тп."
      ],
      "metadata": {
        "id": "Ymh4Vqmbu2Ai"
      }
    },
    {
      "cell_type": "code",
      "source": [
        "y_pred_test = clf.predict(X_test)\n",
        "print(accuracy_score(Y_test, y_pred_test), 'Accuracy')\n",
        "print(precision_score(Y_test, y_pred_test), 'Prescision score')\n",
        "print(recall_score(Y_test, y_pred_test), 'Recall')\n",
        "print(f1_score(Y_test, y_pred_test), 'F1')"
      ],
      "metadata": {
        "colab": {
          "base_uri": "https://localhost:8080/"
        },
        "id": "6n1Y0r44u2wQ",
        "outputId": "2e7137d9-7317-4f3c-8257-d0fec1c31a86"
      },
      "execution_count": 366,
      "outputs": [
        {
          "output_type": "stream",
          "name": "stdout",
          "text": [
            "0.7248520710059172 Accuracy\n",
            "0.7032967032967034 Prescision score\n",
            "0.49230769230769234 Recall\n",
            "0.579185520361991 F1\n"
          ]
        }
      ]
    },
    {
      "cell_type": "markdown",
      "source": [
        "Следовательно у KNeighborsClassifier больше F1 = (0.579185520361991 ), чем у LogisticRegression F2 = (0.5288461538461539  )"
      ],
      "metadata": {
        "id": "ZWZK8Okm3R1J"
      }
    }
  ]
}